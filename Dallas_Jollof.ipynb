{
 "cells": [
  {
   "cell_type": "code",
   "execution_count": 1,
   "id": "ad14cc90",
   "metadata": {},
   "outputs": [],
   "source": [
    "# Standard Imports\n",
    "import numpy as np\n",
    "import pandas as pd\n",
    "import matplotlib.pyplot as plt\n",
    "import seaborn as sns\n",
    "# Additional Imports\n",
    "import os, json, math, time\n",
    "from yelpapi import YelpAPI\n",
    "from tqdm.notebook import tqdm_notebook"
   ]
  },
  {
   "cell_type": "code",
   "execution_count": 2,
   "id": "9b06a7f9",
   "metadata": {},
   "outputs": [],
   "source": [
    "with open('.secret/yelp_api.json') as f:\n",
    "    login = json.load(f)\n",
    "yelp_api = YelpAPI(login['api-key'], timeout_s=5.0)"
   ]
  },
  {
   "cell_type": "code",
   "execution_count": 3,
   "id": "75b93eb3",
   "metadata": {},
   "outputs": [],
   "source": [
    "# set our API call parameters \n",
    "LOCATION = 'Dallas,TX'\n",
    "TERM = 'jollof'"
   ]
  },
  {
   "cell_type": "code",
   "execution_count": 5,
   "id": "175eb99e",
   "metadata": {},
   "outputs": [
    {
     "name": "stdout",
     "output_type": "stream",
     "text": [
      "[i] Data/results_in_progress_Dallas_jollof.json not found. Saving empty list to file.\n"
     ]
    }
   ],
   "source": [
    "#Create a results-in-progress JSON file, but only if it doesn't exist\n",
    "\n",
    "# Specifying JSON_FILE filename\n",
    "JSON_FILE = \"Data/results_in_progress_Dallas_jollof.json\"\n",
    "\n",
    "## Check if JSON_FILE exists\n",
    "file_exists = os.path.isfile(JSON_FILE)\n",
    "## If it does not exist: \n",
    "if file_exists == False:\n",
    "    \n",
    "    ## CREATE ANY NEEDED FOLDERS\n",
    "    # Get the Folder Name only\n",
    "    folder = os.path.dirname(JSON_FILE)\n",
    "    ## If JSON_FILE included a folder:\n",
    "    if len(folder)>0:\n",
    "        # create the folder\n",
    "        os.makedirs(folder,exist_ok=True)\n",
    "        \n",
    "        \n",
    "    ## INFORM USER AND SAVE EMPTY LIST\n",
    "    print(f'[i] {JSON_FILE} not found. Saving empty list to file.')\n",
    "    \n",
    "    \n",
    "    # save an empty list\n",
    "    with open(JSON_FILE,'w') as f:\n",
    "        json.dump([],f)  \n",
    "# If it exists, inform user\n",
    "else:\n",
    "    print(f\"[i] {JSON_FILE} already exists.\")"
   ]
  },
  {
   "cell_type": "code",
   "execution_count": 6,
   "id": "39112fd9",
   "metadata": {},
   "outputs": [
    {
     "name": "stdout",
     "output_type": "stream",
     "text": [
      "- 0 previous results found.\n"
     ]
    }
   ],
   "source": [
    "## Load previous results and use len of results for offset\n",
    "with open(JSON_FILE,'r') as f:\n",
    "    previous_results = json.load(f)\n",
    "    \n",
    "## set offset based on previous results\n",
    "n_results = len(previous_results)\n",
    "print(f'- {n_results} previous results found.')"
   ]
  },
  {
   "cell_type": "code",
   "execution_count": 7,
   "id": "52bf07a2",
   "metadata": {},
   "outputs": [
    {
     "data": {
      "text/plain": [
       "dict_keys(['businesses', 'total', 'region'])"
      ]
     },
     "execution_count": 7,
     "metadata": {},
     "output_type": "execute_result"
    }
   ],
   "source": [
    "# use our yelp_api variable's search_query method to perform our API call\n",
    "results = yelp_api.search_query(location=LOCATION,\n",
    "                                term=TERM,\n",
    "                               offset=n_results)\n",
    "results.keys()"
   ]
  },
  {
   "cell_type": "code",
   "execution_count": 8,
   "id": "80e2343d",
   "metadata": {},
   "outputs": [
    {
     "data": {
      "text/plain": [
       "34"
      ]
     },
     "execution_count": 8,
     "metadata": {},
     "output_type": "execute_result"
    }
   ],
   "source": [
    "## How many results total?\n",
    "total_results = results['total']\n",
    "total_results"
   ]
  },
  {
   "cell_type": "code",
   "execution_count": 9,
   "id": "1c93faa5",
   "metadata": {},
   "outputs": [
    {
     "data": {
      "text/plain": [
       "20"
      ]
     },
     "execution_count": 9,
     "metadata": {},
     "output_type": "execute_result"
    }
   ],
   "source": [
    "## How many did we get the details for?\n",
    "results_per_page = len(results['businesses'])\n",
    "results_per_page"
   ]
  },
  {
   "cell_type": "code",
   "execution_count": 10,
   "id": "16a21535",
   "metadata": {},
   "outputs": [
    {
     "data": {
      "text/plain": [
       "2"
      ]
     },
     "execution_count": 10,
     "metadata": {},
     "output_type": "execute_result"
    }
   ],
   "source": [
    "# Use math.ceil to round up for the total number of pages of results.\n",
    "n_pages = math.ceil((results['total']-n_results)/ results_per_page)\n",
    "n_pages"
   ]
  },
  {
   "cell_type": "code",
   "execution_count": 11,
   "id": "bff9e90f",
   "metadata": {},
   "outputs": [],
   "source": [
    "# join new results with old list with extend and save to file\n",
    "previous_results.extend(results['businesses'])  \n",
    "with open(JSON_FILE,'w') as f:\n",
    "     json.dump(previous_results,f)"
   ]
  },
  {
   "cell_type": "code",
   "execution_count": 12,
   "id": "13744a2c",
   "metadata": {},
   "outputs": [
    {
     "data": {
      "application/vnd.jupyter.widget-view+json": {
       "model_id": "4a326833bdae4f61ade09f45587fc0b7",
       "version_major": 2,
       "version_minor": 0
      },
      "text/plain": [
       "  0%|          | 0/2 [00:00<?, ?it/s]"
      ]
     },
     "metadata": {},
     "output_type": "display_data"
    }
   ],
   "source": [
    "for i in tqdm_notebook( range(1,n_pages+1)):\n",
    "    \n",
    "    ## Read in results in progress file and check the length\n",
    "    with open(JSON_FILE, 'r') as f:\n",
    "        previous_results = json.load(f)\n",
    "    ## save number of results for to use as offset\n",
    "    n_results = len(previous_results)\n",
    "    ## use n_results as the OFFSET \n",
    "    results = yelp_api.search_query(location=LOCATION,\n",
    "                                    term=TERM, \n",
    "                                    offset=n_results)\n",
    "    \n",
    "    ## append new results and save to file\n",
    "    previous_results.extend(results['businesses'])\n",
    "    \n",
    "    with open(JSON_FILE,'w') as f:\n",
    "        json.dump(previous_results,f)\n",
    "    \n",
    "    # add a 200ms pause\n",
    "    time.sleep(.2)"
   ]
  },
  {
   "cell_type": "code",
   "execution_count": 13,
   "id": "87aeb5a7",
   "metadata": {},
   "outputs": [
    {
     "data": {
      "text/html": [
       "<div>\n",
       "<style scoped>\n",
       "    .dataframe tbody tr th:only-of-type {\n",
       "        vertical-align: middle;\n",
       "    }\n",
       "\n",
       "    .dataframe tbody tr th {\n",
       "        vertical-align: top;\n",
       "    }\n",
       "\n",
       "    .dataframe thead th {\n",
       "        text-align: right;\n",
       "    }\n",
       "</style>\n",
       "<table border=\"1\" class=\"dataframe\">\n",
       "  <thead>\n",
       "    <tr style=\"text-align: right;\">\n",
       "      <th></th>\n",
       "      <th>id</th>\n",
       "      <th>alias</th>\n",
       "      <th>name</th>\n",
       "      <th>image_url</th>\n",
       "      <th>is_closed</th>\n",
       "      <th>url</th>\n",
       "      <th>review_count</th>\n",
       "      <th>categories</th>\n",
       "      <th>rating</th>\n",
       "      <th>coordinates</th>\n",
       "      <th>transactions</th>\n",
       "      <th>location</th>\n",
       "      <th>phone</th>\n",
       "      <th>display_phone</th>\n",
       "      <th>distance</th>\n",
       "      <th>price</th>\n",
       "    </tr>\n",
       "  </thead>\n",
       "  <tbody>\n",
       "    <tr>\n",
       "      <th>0</th>\n",
       "      <td>tH3yxO4gKjw6CiR8-s5Zag</td>\n",
       "      <td>jollof-haus-west-african-flavors-allen</td>\n",
       "      <td>Jollof Haus - West African Flavors</td>\n",
       "      <td>https://s3-media4.fl.yelpcdn.com/bphoto/8R8VHd...</td>\n",
       "      <td>False</td>\n",
       "      <td>https://www.yelp.com/biz/jollof-haus-west-afri...</td>\n",
       "      <td>2</td>\n",
       "      <td>[{'alias': 'african', 'title': 'African'}]</td>\n",
       "      <td>4.5</td>\n",
       "      <td>{'latitude': 33.12915364706694, 'longitude': -...</td>\n",
       "      <td>[]</td>\n",
       "      <td>{'address1': '945 W Stacy Rd', 'address2': 'St...</td>\n",
       "      <td>19723328185</td>\n",
       "      <td>(972) 332-8185</td>\n",
       "      <td>34330.087885</td>\n",
       "      <td>NaN</td>\n",
       "    </tr>\n",
       "    <tr>\n",
       "      <th>1</th>\n",
       "      <td>kLUilzZ0knRWfi2sGPw5wA</td>\n",
       "      <td>fusion-vibes-kitchen-bar-richardson</td>\n",
       "      <td>Fusion Vibes Kitchen + Bar</td>\n",
       "      <td>https://s3-media2.fl.yelpcdn.com/bphoto/8TTdBs...</td>\n",
       "      <td>False</td>\n",
       "      <td>https://www.yelp.com/biz/fusion-vibes-kitchen-...</td>\n",
       "      <td>80</td>\n",
       "      <td>[{'alias': 'african', 'title': 'African'}, {'a...</td>\n",
       "      <td>4.0</td>\n",
       "      <td>{'latitude': 32.94914411061217, 'longitude': -...</td>\n",
       "      <td>[pickup, delivery]</td>\n",
       "      <td>{'address1': '100 S Central Expy', 'address2':...</td>\n",
       "      <td>19725433888</td>\n",
       "      <td>(972) 543-3888</td>\n",
       "      <td>13625.870670</td>\n",
       "      <td>NaN</td>\n",
       "    </tr>\n",
       "    <tr>\n",
       "      <th>2</th>\n",
       "      <td>fAlx1qzwsrMwERyIHLpi-g</td>\n",
       "      <td>west-african-way-plano</td>\n",
       "      <td>West African Way</td>\n",
       "      <td>https://s3-media4.fl.yelpcdn.com/bphoto/bN6rGC...</td>\n",
       "      <td>False</td>\n",
       "      <td>https://www.yelp.com/biz/west-african-way-plan...</td>\n",
       "      <td>22</td>\n",
       "      <td>[{'alias': 'african', 'title': 'African'}]</td>\n",
       "      <td>4.5</td>\n",
       "      <td>{'latitude': 33.01918, 'longitude': -96.68258}</td>\n",
       "      <td>[delivery]</td>\n",
       "      <td>{'address1': '1405 Jupiter Rd', 'address2': 'S...</td>\n",
       "      <td>19724242634</td>\n",
       "      <td>(972) 424-2634</td>\n",
       "      <td>22702.049567</td>\n",
       "      <td>NaN</td>\n",
       "    </tr>\n",
       "    <tr>\n",
       "      <th>3</th>\n",
       "      <td>4deZdnP0xsgpEVSsUxTRmA</td>\n",
       "      <td>yemsade-restaurant-grand-prairie</td>\n",
       "      <td>Yemsade Restaurant</td>\n",
       "      <td>https://s3-media2.fl.yelpcdn.com/bphoto/gQ84SI...</td>\n",
       "      <td>False</td>\n",
       "      <td>https://www.yelp.com/biz/yemsade-restaurant-gr...</td>\n",
       "      <td>53</td>\n",
       "      <td>[{'alias': 'african', 'title': 'African'}]</td>\n",
       "      <td>4.0</td>\n",
       "      <td>{'latitude': 32.6987457, 'longitude': -97.0153...</td>\n",
       "      <td>[pickup, delivery]</td>\n",
       "      <td>{'address1': '3007 S Carrier Pkwy', 'address2'...</td>\n",
       "      <td>19722642111</td>\n",
       "      <td>(972) 264-2111</td>\n",
       "      <td>25384.301750</td>\n",
       "      <td>$$</td>\n",
       "    </tr>\n",
       "    <tr>\n",
       "      <th>4</th>\n",
       "      <td>2TLj2Se-p8yZ6x28sZ3uow</td>\n",
       "      <td>afrika-fusion-dallas-5</td>\n",
       "      <td>Afrika Fusion</td>\n",
       "      <td>https://s3-media1.fl.yelpcdn.com/bphoto/iofVaM...</td>\n",
       "      <td>False</td>\n",
       "      <td>https://www.yelp.com/biz/afrika-fusion-dallas-...</td>\n",
       "      <td>107</td>\n",
       "      <td>[{'alias': 'african', 'title': 'African'}, {'a...</td>\n",
       "      <td>3.0</td>\n",
       "      <td>{'latitude': 33.00635, 'longitude': -96.828012}</td>\n",
       "      <td>[pickup, delivery]</td>\n",
       "      <td>{'address1': '18900 Dallas Pkwy', 'address2': ...</td>\n",
       "      <td>19722489112</td>\n",
       "      <td>(972) 248-9112</td>\n",
       "      <td>18793.342915</td>\n",
       "      <td>$$</td>\n",
       "    </tr>\n",
       "  </tbody>\n",
       "</table>\n",
       "</div>"
      ],
      "text/plain": [
       "                       id                                   alias  \\\n",
       "0  tH3yxO4gKjw6CiR8-s5Zag  jollof-haus-west-african-flavors-allen   \n",
       "1  kLUilzZ0knRWfi2sGPw5wA     fusion-vibes-kitchen-bar-richardson   \n",
       "2  fAlx1qzwsrMwERyIHLpi-g                  west-african-way-plano   \n",
       "3  4deZdnP0xsgpEVSsUxTRmA        yemsade-restaurant-grand-prairie   \n",
       "4  2TLj2Se-p8yZ6x28sZ3uow                  afrika-fusion-dallas-5   \n",
       "\n",
       "                                 name  \\\n",
       "0  Jollof Haus - West African Flavors   \n",
       "1          Fusion Vibes Kitchen + Bar   \n",
       "2                    West African Way   \n",
       "3                  Yemsade Restaurant   \n",
       "4                       Afrika Fusion   \n",
       "\n",
       "                                           image_url  is_closed  \\\n",
       "0  https://s3-media4.fl.yelpcdn.com/bphoto/8R8VHd...      False   \n",
       "1  https://s3-media2.fl.yelpcdn.com/bphoto/8TTdBs...      False   \n",
       "2  https://s3-media4.fl.yelpcdn.com/bphoto/bN6rGC...      False   \n",
       "3  https://s3-media2.fl.yelpcdn.com/bphoto/gQ84SI...      False   \n",
       "4  https://s3-media1.fl.yelpcdn.com/bphoto/iofVaM...      False   \n",
       "\n",
       "                                                 url  review_count  \\\n",
       "0  https://www.yelp.com/biz/jollof-haus-west-afri...             2   \n",
       "1  https://www.yelp.com/biz/fusion-vibes-kitchen-...            80   \n",
       "2  https://www.yelp.com/biz/west-african-way-plan...            22   \n",
       "3  https://www.yelp.com/biz/yemsade-restaurant-gr...            53   \n",
       "4  https://www.yelp.com/biz/afrika-fusion-dallas-...           107   \n",
       "\n",
       "                                          categories  rating  \\\n",
       "0         [{'alias': 'african', 'title': 'African'}]     4.5   \n",
       "1  [{'alias': 'african', 'title': 'African'}, {'a...     4.0   \n",
       "2         [{'alias': 'african', 'title': 'African'}]     4.5   \n",
       "3         [{'alias': 'african', 'title': 'African'}]     4.0   \n",
       "4  [{'alias': 'african', 'title': 'African'}, {'a...     3.0   \n",
       "\n",
       "                                         coordinates        transactions  \\\n",
       "0  {'latitude': 33.12915364706694, 'longitude': -...                  []   \n",
       "1  {'latitude': 32.94914411061217, 'longitude': -...  [pickup, delivery]   \n",
       "2     {'latitude': 33.01918, 'longitude': -96.68258}          [delivery]   \n",
       "3  {'latitude': 32.6987457, 'longitude': -97.0153...  [pickup, delivery]   \n",
       "4    {'latitude': 33.00635, 'longitude': -96.828012}  [pickup, delivery]   \n",
       "\n",
       "                                            location        phone  \\\n",
       "0  {'address1': '945 W Stacy Rd', 'address2': 'St...  19723328185   \n",
       "1  {'address1': '100 S Central Expy', 'address2':...  19725433888   \n",
       "2  {'address1': '1405 Jupiter Rd', 'address2': 'S...  19724242634   \n",
       "3  {'address1': '3007 S Carrier Pkwy', 'address2'...  19722642111   \n",
       "4  {'address1': '18900 Dallas Pkwy', 'address2': ...  19722489112   \n",
       "\n",
       "    display_phone      distance price  \n",
       "0  (972) 332-8185  34330.087885   NaN  \n",
       "1  (972) 543-3888  13625.870670   NaN  \n",
       "2  (972) 424-2634  22702.049567   NaN  \n",
       "3  (972) 264-2111  25384.301750    $$  \n",
       "4  (972) 248-9112  18793.342915    $$  "
      ]
     },
     "metadata": {},
     "output_type": "display_data"
    },
    {
     "data": {
      "text/html": [
       "<div>\n",
       "<style scoped>\n",
       "    .dataframe tbody tr th:only-of-type {\n",
       "        vertical-align: middle;\n",
       "    }\n",
       "\n",
       "    .dataframe tbody tr th {\n",
       "        vertical-align: top;\n",
       "    }\n",
       "\n",
       "    .dataframe thead th {\n",
       "        text-align: right;\n",
       "    }\n",
       "</style>\n",
       "<table border=\"1\" class=\"dataframe\">\n",
       "  <thead>\n",
       "    <tr style=\"text-align: right;\">\n",
       "      <th></th>\n",
       "      <th>id</th>\n",
       "      <th>alias</th>\n",
       "      <th>name</th>\n",
       "      <th>image_url</th>\n",
       "      <th>is_closed</th>\n",
       "      <th>url</th>\n",
       "      <th>review_count</th>\n",
       "      <th>categories</th>\n",
       "      <th>rating</th>\n",
       "      <th>coordinates</th>\n",
       "      <th>transactions</th>\n",
       "      <th>location</th>\n",
       "      <th>phone</th>\n",
       "      <th>display_phone</th>\n",
       "      <th>distance</th>\n",
       "      <th>price</th>\n",
       "    </tr>\n",
       "  </thead>\n",
       "  <tbody>\n",
       "    <tr>\n",
       "      <th>27</th>\n",
       "      <td>KaFNK6FzABlNz4qMz5HXWA</td>\n",
       "      <td>murphys-place-dallas-dallas</td>\n",
       "      <td>Murphy's Place Dallas</td>\n",
       "      <td></td>\n",
       "      <td>False</td>\n",
       "      <td>https://www.yelp.com/biz/murphys-place-dallas-...</td>\n",
       "      <td>1</td>\n",
       "      <td>[]</td>\n",
       "      <td>4.0</td>\n",
       "      <td>{'latitude': 32.92331, 'longitude': -96.7363}</td>\n",
       "      <td>[]</td>\n",
       "      <td>{'address1': '9410 Walnut St', 'address2': Non...</td>\n",
       "      <td>12145708175</td>\n",
       "      <td>(214) 570-8175</td>\n",
       "      <td>11137.558655</td>\n",
       "      <td>NaN</td>\n",
       "    </tr>\n",
       "    <tr>\n",
       "      <th>28</th>\n",
       "      <td>t1OFpyRxngMWGNgI293XsQ</td>\n",
       "      <td>boxochops-modern-african-plano</td>\n",
       "      <td>Boxochops Modern African</td>\n",
       "      <td>https://s3-media1.fl.yelpcdn.com/bphoto/1nGPld...</td>\n",
       "      <td>False</td>\n",
       "      <td>https://www.yelp.com/biz/boxochops-modern-afri...</td>\n",
       "      <td>16</td>\n",
       "      <td>[{'alias': 'african', 'title': 'African'}]</td>\n",
       "      <td>4.0</td>\n",
       "      <td>{'latitude': 33.09322, 'longitude': -96.79658}</td>\n",
       "      <td>[pickup, delivery]</td>\n",
       "      <td>{'address1': '8500 Ohio Dr', 'address2': 'Ste ...</td>\n",
       "      <td>14698443412</td>\n",
       "      <td>(469) 844-3412</td>\n",
       "      <td>28326.351939</td>\n",
       "      <td>NaN</td>\n",
       "    </tr>\n",
       "    <tr>\n",
       "      <th>29</th>\n",
       "      <td>r-wecKPD4tVkV8A5JA_rvQ</td>\n",
       "      <td>ts-buka-arlington</td>\n",
       "      <td>Ts Buka</td>\n",
       "      <td>https://s3-media3.fl.yelpcdn.com/bphoto/b8XYm-...</td>\n",
       "      <td>False</td>\n",
       "      <td>https://www.yelp.com/biz/ts-buka-arlington?adj...</td>\n",
       "      <td>8</td>\n",
       "      <td>[{'alias': 'african', 'title': 'African'}]</td>\n",
       "      <td>3.5</td>\n",
       "      <td>{'latitude': 32.7065663, 'longitude': -97.0992...</td>\n",
       "      <td>[pickup, delivery]</td>\n",
       "      <td>{'address1': '807 E Arkansas Ln', 'address2': ...</td>\n",
       "      <td>16822766400</td>\n",
       "      <td>(682) 276-6400</td>\n",
       "      <td>31562.106949</td>\n",
       "      <td>NaN</td>\n",
       "    </tr>\n",
       "    <tr>\n",
       "      <th>30</th>\n",
       "      <td>qVDMYXQlgFeYqCK_7tn9rg</td>\n",
       "      <td>aso-rock-restaurant-and-lounge-dallas</td>\n",
       "      <td>Aso Rock Restaurant and Lounge</td>\n",
       "      <td>https://s3-media3.fl.yelpcdn.com/bphoto/sMDXs-...</td>\n",
       "      <td>False</td>\n",
       "      <td>https://www.yelp.com/biz/aso-rock-restaurant-a...</td>\n",
       "      <td>44</td>\n",
       "      <td>[{'alias': 'lounges', 'title': 'Lounges'}, {'a...</td>\n",
       "      <td>2.5</td>\n",
       "      <td>{'latitude': 32.902179, 'longitude': -96.714309}</td>\n",
       "      <td>[pickup, delivery]</td>\n",
       "      <td>{'address1': '9220 Skillman St', 'address2': '...</td>\n",
       "      <td>12143431300</td>\n",
       "      <td>(214) 343-1300</td>\n",
       "      <td>10684.692849</td>\n",
       "      <td>$$</td>\n",
       "    </tr>\n",
       "    <tr>\n",
       "      <th>31</th>\n",
       "      <td>kV8L7us7CFBU9mjup2TnKw</td>\n",
       "      <td>spiced-n-grillz-dallas</td>\n",
       "      <td>Spiced N Grillz</td>\n",
       "      <td></td>\n",
       "      <td>False</td>\n",
       "      <td>https://www.yelp.com/biz/spiced-n-grillz-dalla...</td>\n",
       "      <td>1</td>\n",
       "      <td>[{'alias': 'fooddeliveryservices', 'title': 'F...</td>\n",
       "      <td>1.0</td>\n",
       "      <td>{'latitude': 32.64484, 'longitude': -96.94971}</td>\n",
       "      <td>[pickup, delivery]</td>\n",
       "      <td>{'address1': None, 'address2': None, 'address3...</td>\n",
       "      <td>14697596475</td>\n",
       "      <td>(469) 759-6475</td>\n",
       "      <td>26245.094926</td>\n",
       "      <td>NaN</td>\n",
       "    </tr>\n",
       "  </tbody>\n",
       "</table>\n",
       "</div>"
      ],
      "text/plain": [
       "                        id                                  alias  \\\n",
       "27  KaFNK6FzABlNz4qMz5HXWA            murphys-place-dallas-dallas   \n",
       "28  t1OFpyRxngMWGNgI293XsQ         boxochops-modern-african-plano   \n",
       "29  r-wecKPD4tVkV8A5JA_rvQ                      ts-buka-arlington   \n",
       "30  qVDMYXQlgFeYqCK_7tn9rg  aso-rock-restaurant-and-lounge-dallas   \n",
       "31  kV8L7us7CFBU9mjup2TnKw                 spiced-n-grillz-dallas   \n",
       "\n",
       "                              name  \\\n",
       "27           Murphy's Place Dallas   \n",
       "28        Boxochops Modern African   \n",
       "29                         Ts Buka   \n",
       "30  Aso Rock Restaurant and Lounge   \n",
       "31                 Spiced N Grillz   \n",
       "\n",
       "                                            image_url  is_closed  \\\n",
       "27                                                         False   \n",
       "28  https://s3-media1.fl.yelpcdn.com/bphoto/1nGPld...      False   \n",
       "29  https://s3-media3.fl.yelpcdn.com/bphoto/b8XYm-...      False   \n",
       "30  https://s3-media3.fl.yelpcdn.com/bphoto/sMDXs-...      False   \n",
       "31                                                         False   \n",
       "\n",
       "                                                  url  review_count  \\\n",
       "27  https://www.yelp.com/biz/murphys-place-dallas-...             1   \n",
       "28  https://www.yelp.com/biz/boxochops-modern-afri...            16   \n",
       "29  https://www.yelp.com/biz/ts-buka-arlington?adj...             8   \n",
       "30  https://www.yelp.com/biz/aso-rock-restaurant-a...            44   \n",
       "31  https://www.yelp.com/biz/spiced-n-grillz-dalla...             1   \n",
       "\n",
       "                                           categories  rating  \\\n",
       "27                                                 []     4.0   \n",
       "28         [{'alias': 'african', 'title': 'African'}]     4.0   \n",
       "29         [{'alias': 'african', 'title': 'African'}]     3.5   \n",
       "30  [{'alias': 'lounges', 'title': 'Lounges'}, {'a...     2.5   \n",
       "31  [{'alias': 'fooddeliveryservices', 'title': 'F...     1.0   \n",
       "\n",
       "                                          coordinates        transactions  \\\n",
       "27      {'latitude': 32.92331, 'longitude': -96.7363}                  []   \n",
       "28     {'latitude': 33.09322, 'longitude': -96.79658}  [pickup, delivery]   \n",
       "29  {'latitude': 32.7065663, 'longitude': -97.0992...  [pickup, delivery]   \n",
       "30   {'latitude': 32.902179, 'longitude': -96.714309}  [pickup, delivery]   \n",
       "31     {'latitude': 32.64484, 'longitude': -96.94971}  [pickup, delivery]   \n",
       "\n",
       "                                             location        phone  \\\n",
       "27  {'address1': '9410 Walnut St', 'address2': Non...  12145708175   \n",
       "28  {'address1': '8500 Ohio Dr', 'address2': 'Ste ...  14698443412   \n",
       "29  {'address1': '807 E Arkansas Ln', 'address2': ...  16822766400   \n",
       "30  {'address1': '9220 Skillman St', 'address2': '...  12143431300   \n",
       "31  {'address1': None, 'address2': None, 'address3...  14697596475   \n",
       "\n",
       "     display_phone      distance price  \n",
       "27  (214) 570-8175  11137.558655   NaN  \n",
       "28  (469) 844-3412  28326.351939   NaN  \n",
       "29  (682) 276-6400  31562.106949   NaN  \n",
       "30  (214) 343-1300  10684.692849    $$  \n",
       "31  (469) 759-6475  26245.094926   NaN  "
      ]
     },
     "metadata": {},
     "output_type": "display_data"
    }
   ],
   "source": [
    "# load final results\n",
    "final_df = pd.read_json(JSON_FILE)\n",
    "display(final_df.head(), final_df.tail())"
   ]
  },
  {
   "cell_type": "code",
   "execution_count": 15,
   "id": "6b352800",
   "metadata": {},
   "outputs": [
    {
     "data": {
      "text/plain": [
       "0"
      ]
     },
     "execution_count": 15,
     "metadata": {},
     "output_type": "execute_result"
    }
   ],
   "source": [
    "# check for duplicate ID's \n",
    "final_df.duplicated(subset='id').sum()"
   ]
  },
  {
   "cell_type": "code",
   "execution_count": 16,
   "id": "fd2f92d6",
   "metadata": {},
   "outputs": [
    {
     "data": {
      "text/plain": [
       "0"
      ]
     },
     "execution_count": 16,
     "metadata": {},
     "output_type": "execute_result"
    }
   ],
   "source": [
    "## Drop duplicate ids and confirm there are no more duplicates (not needed here just for practice)\n",
    "final_df = final_df.drop_duplicates(subset='id')\n",
    "final_df.duplicated(subset='id').sum()"
   ]
  },
  {
   "cell_type": "code",
   "execution_count": 17,
   "id": "fd953e4e",
   "metadata": {},
   "outputs": [],
   "source": [
    "# save the final results to a compressed csv\n",
    "final_df.to_csv('Data/final_results_Dallas_jollof.csv.gz', compression='gzip',index=False)"
   ]
  },
  {
   "cell_type": "code",
   "execution_count": null,
   "id": "df9712fc",
   "metadata": {},
   "outputs": [],
   "source": []
  }
 ],
 "metadata": {
  "kernelspec": {
   "display_name": "Python (dojo-env)",
   "language": "python",
   "name": "dojo-env"
  },
  "language_info": {
   "codemirror_mode": {
    "name": "ipython",
    "version": 3
   },
   "file_extension": ".py",
   "mimetype": "text/x-python",
   "name": "python",
   "nbconvert_exporter": "python",
   "pygments_lexer": "ipython3",
   "version": "3.8.13"
  },
  "toc": {
   "base_numbering": 1,
   "nav_menu": {},
   "number_sections": false,
   "sideBar": true,
   "skip_h1_title": false,
   "title_cell": "Table of Contents",
   "title_sidebar": "Contents",
   "toc_cell": false,
   "toc_position": {},
   "toc_section_display": true,
   "toc_window_display": false
  }
 },
 "nbformat": 4,
 "nbformat_minor": 5
}
